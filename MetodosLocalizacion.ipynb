{
 "cells": [
  {
   "cell_type": "markdown",
   "id": "afb644e7",
   "metadata": {},
   "source": [
    "## **Métodos de Localización**\n",
    "\n",
    "Buscar 3 localizaciones para las cuales podríamos hacer el proyecto e investigar los factores para poder evaluar esas localizaciones. \n",
    "\n",
    "A partir de los puntajes vamos a ver cuál es la mejor localización. \n",
    "\n",
    "Ambos métodos de localización próximos a implementar deben tener los mismos factores. Se verá cuál localidad escoge cada método.\n",
    "\n",
    "Pensamos que debemos colocar los mismos factores, para poder hacer la comparación de cuál método es mejor."
   ]
  },
  {
   "cell_type": "markdown",
   "id": "77d317f2",
   "metadata": {},
   "source": [
    "**Integrantes del equipo:**\n",
    "- Luna Katalina Quintero Jiménez, T00068464\n",
    "- Gabriel Pérez Castillo, T00066036\n",
    "- Adriana Carolina Mastrascusa González, T00064449\n",
    "- Paula Andrea Arevalo Barrios, T00063954\n",
    "- Eduin Andrés Cardona Hernandez, T00084017\n",
    "- Karla Andrea Pinto Ruiz, T00069199"
   ]
  },
  {
   "cell_type": "markdown",
   "id": "8ab47241",
   "metadata": {},
   "source": [
    "Métodos para la evaluación de opciones de localización:\n",
    "\n",
    "1. Método del análisis dimensional\n",
    "2. Método cualitativo por puntos (no se usará para la actividad)\n",
    "3. Método de la medida de preferencia de localización"
   ]
  },
  {
   "cell_type": "markdown",
   "id": "039a2808",
   "metadata": {},
   "source": [
    "### **Resumen breve de la presentación de las diapositivas del curso:**\n",
    "\n",
    "El análisis dimensional compara alternativas de a dos y elimina sistemáticamente la peor usando un índice de comparación calculado a partir de factores locacionales. \n",
    "\n",
    "Pasos del método: \n",
    "1) Seleccionar factores locacionales \n",
    "2) Decidir cómo medir cada factor (puntos o unidades monetarias) \n",
    "3) Asignar ponderaciones/orden de prioridad a los factores \n",
    "4) Calcular el índice de comparación entre cada par de alternativas y eliminar la que queda peor. \n",
    "\n",
    "La presentación incluye un ejemplo numérico comparaciones que muestra cómo se aplica la fórmula y cómo se obtiene el orden preferencial entre A, B y C. \n",
    "\n",
    "### **Plan de trabajo para aplicarlo a nuestros datos.**\n",
    "\n",
    "- Asegurarnos del objetivo del análisis: ¿optimizar costo, maximizar utilidad, minimizar distancia a insumos, otra cosa?\n",
    "\n",
    "- Revisar nuestros datos y catalogar factores locacionales (qué columnas/medidas tenemos).\n",
    "\n",
    "- Decidir unidad de medida por factor (puntos o $) y proponer escalas y ponderaciones razonadas.\n",
    "\n",
    "- Calcular índices de comparación por pares y obtener el orden preferencial (esto paso a paso y con las fórmulas claras).\n",
    "\n",
    "- Interpretación y sensibilidad: qué pasa si cambian las ponderaciones; recomendaciones finales para nuestra formulación de proyecto."
   ]
  },
  {
   "cell_type": "markdown",
   "id": "e2801ce0",
   "metadata": {},
   "source": [
    "## **Para nuestro proyecto las localizaciones y factores son:**\n",
    "\n",
    "### **Localizaciones**\n",
    "- A = Bogotá D.C.\n",
    "- B = Medellín (Antioquia)\n",
    "- C = Santiago de Cali (Valle del Cauca)\n",
    "\n",
    "### **Factores objetivos**\n",
    "- Secuestros\n",
    "- Lesiones personales\n",
    "- Conectividad\n",
    "- Costo unitario de energía eléctrica para fabricación (COP/kWh)\n",
    "\n",
    "### **Factores subjetivos**\n",
    "- Tiempo de respuesta\n",
    "- Alianzas y presencia de organizaciones\n",
    "- Percepción de Seguridad Ciudadana\n",
    "- Nivel de Conciencia Digital\n",
    "- Soporte técnico local"
   ]
  },
  {
   "cell_type": "markdown",
   "id": "3b835229",
   "metadata": {},
   "source": [
    "La tabla sobre la cual trabajaremos es la siguiente:\n",
    "\n",
    "### **TABLA DE ANÁLISIS DIMENSIONAL - LOCALIZACIÓN PULSERA INTELIGENTE**\n",
    "![Tabla de análisis dimensional](TablaAnalisisDimensional.png)"
   ]
  }
 ],
 "metadata": {
  "kernelspec": {
   "display_name": "venv",
   "language": "python",
   "name": "python3"
  },
  "language_info": {
   "codemirror_mode": {
    "name": "ipython",
    "version": 3
   },
   "file_extension": ".py",
   "mimetype": "text/x-python",
   "name": "python",
   "nbconvert_exporter": "python",
   "pygments_lexer": "ipython3",
   "version": "3.12.3"
  }
 },
 "nbformat": 4,
 "nbformat_minor": 5
}
